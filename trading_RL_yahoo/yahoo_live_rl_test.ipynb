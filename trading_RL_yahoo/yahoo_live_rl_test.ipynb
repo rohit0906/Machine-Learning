{
  "nbformat": 4,
  "nbformat_minor": 0,
  "metadata": {
    "colab": {
      "name": "Untitled",
      "provenance": []
    },
    "kernelspec": {
      "name": "python3",
      "display_name": "Python 3"
    }
  },
  "cells": [
    {
      "cell_type": "code",
      "metadata": {
        "id": "kIEbJT6e2rhP",
        "colab_type": "code",
        "outputId": "0f565c4c-d452-4276-9ca4-e65a20107a73",
        "colab": {
          "base_uri": "https://localhost:8080/",
          "height": 138
        }
      },
      "source": [
        "!pip install selenium"
      ],
      "execution_count": 0,
      "outputs": [
        {
          "output_type": "stream",
          "text": [
            "Collecting selenium\n",
            "\u001b[?25l  Downloading https://files.pythonhosted.org/packages/80/d6/4294f0b4bce4de0abf13e17190289f9d0613b0a44e5dd6a7f5ca98459853/selenium-3.141.0-py2.py3-none-any.whl (904kB)\n",
            "\r\u001b[K     |▍                               | 10kB 15.6MB/s eta 0:00:01\r\u001b[K     |▊                               | 20kB 3.3MB/s eta 0:00:01\r\u001b[K     |█                               | 30kB 4.4MB/s eta 0:00:01\r\u001b[K     |█▌                              | 40kB 4.6MB/s eta 0:00:01\r\u001b[K     |█▉                              | 51kB 3.7MB/s eta 0:00:01\r\u001b[K     |██▏                             | 61kB 4.2MB/s eta 0:00:01\r\u001b[K     |██▌                             | 71kB 4.4MB/s eta 0:00:01\r\u001b[K     |███                             | 81kB 4.8MB/s eta 0:00:01\r\u001b[K     |███▎                            | 92kB 5.1MB/s eta 0:00:01\r\u001b[K     |███▋                            | 102kB 5.0MB/s eta 0:00:01\r\u001b[K     |████                            | 112kB 5.0MB/s eta 0:00:01\r\u001b[K     |████▍                           | 122kB 5.0MB/s eta 0:00:01\r\u001b[K     |████▊                           | 133kB 5.0MB/s eta 0:00:01\r\u001b[K     |█████                           | 143kB 5.0MB/s eta 0:00:01\r\u001b[K     |█████▍                          | 153kB 5.0MB/s eta 0:00:01\r\u001b[K     |█████▉                          | 163kB 5.0MB/s eta 0:00:01\r\u001b[K     |██████▏                         | 174kB 5.0MB/s eta 0:00:01\r\u001b[K     |██████▌                         | 184kB 5.0MB/s eta 0:00:01\r\u001b[K     |██████▉                         | 194kB 5.0MB/s eta 0:00:01\r\u001b[K     |███████▎                        | 204kB 5.0MB/s eta 0:00:01\r\u001b[K     |███████▋                        | 215kB 5.0MB/s eta 0:00:01\r\u001b[K     |████████                        | 225kB 5.0MB/s eta 0:00:01\r\u001b[K     |████████▎                       | 235kB 5.0MB/s eta 0:00:01\r\u001b[K     |████████▊                       | 245kB 5.0MB/s eta 0:00:01\r\u001b[K     |█████████                       | 256kB 5.0MB/s eta 0:00:01\r\u001b[K     |█████████▍                      | 266kB 5.0MB/s eta 0:00:01\r\u001b[K     |█████████▉                      | 276kB 5.0MB/s eta 0:00:01\r\u001b[K     |██████████▏                     | 286kB 5.0MB/s eta 0:00:01\r\u001b[K     |██████████▌                     | 296kB 5.0MB/s eta 0:00:01\r\u001b[K     |██████████▉                     | 307kB 5.0MB/s eta 0:00:01\r\u001b[K     |███████████▎                    | 317kB 5.0MB/s eta 0:00:01\r\u001b[K     |███████████▋                    | 327kB 5.0MB/s eta 0:00:01\r\u001b[K     |████████████                    | 337kB 5.0MB/s eta 0:00:01\r\u001b[K     |████████████▎                   | 348kB 5.0MB/s eta 0:00:01\r\u001b[K     |████████████▊                   | 358kB 5.0MB/s eta 0:00:01\r\u001b[K     |█████████████                   | 368kB 5.0MB/s eta 0:00:01\r\u001b[K     |█████████████▍                  | 378kB 5.0MB/s eta 0:00:01\r\u001b[K     |█████████████▊                  | 389kB 5.0MB/s eta 0:00:01\r\u001b[K     |██████████████▏                 | 399kB 5.0MB/s eta 0:00:01\r\u001b[K     |██████████████▌                 | 409kB 5.0MB/s eta 0:00:01\r\u001b[K     |██████████████▉                 | 419kB 5.0MB/s eta 0:00:01\r\u001b[K     |███████████████▏                | 430kB 5.0MB/s eta 0:00:01\r\u001b[K     |███████████████▋                | 440kB 5.0MB/s eta 0:00:01\r\u001b[K     |████████████████                | 450kB 5.0MB/s eta 0:00:01\r\u001b[K     |████████████████▎               | 460kB 5.0MB/s eta 0:00:01\r\u001b[K     |████████████████▋               | 471kB 5.0MB/s eta 0:00:01\r\u001b[K     |█████████████████               | 481kB 5.0MB/s eta 0:00:01\r\u001b[K     |█████████████████▍              | 491kB 5.0MB/s eta 0:00:01\r\u001b[K     |█████████████████▊              | 501kB 5.0MB/s eta 0:00:01\r\u001b[K     |██████████████████▏             | 512kB 5.0MB/s eta 0:00:01\r\u001b[K     |██████████████████▌             | 522kB 5.0MB/s eta 0:00:01\r\u001b[K     |██████████████████▉             | 532kB 5.0MB/s eta 0:00:01\r\u001b[K     |███████████████████▏            | 542kB 5.0MB/s eta 0:00:01\r\u001b[K     |███████████████████▋            | 552kB 5.0MB/s eta 0:00:01\r\u001b[K     |████████████████████            | 563kB 5.0MB/s eta 0:00:01\r\u001b[K     |████████████████████▎           | 573kB 5.0MB/s eta 0:00:01\r\u001b[K     |████████████████████▋           | 583kB 5.0MB/s eta 0:00:01\r\u001b[K     |█████████████████████           | 593kB 5.0MB/s eta 0:00:01\r\u001b[K     |█████████████████████▍          | 604kB 5.0MB/s eta 0:00:01\r\u001b[K     |█████████████████████▊          | 614kB 5.0MB/s eta 0:00:01\r\u001b[K     |██████████████████████          | 624kB 5.0MB/s eta 0:00:01\r\u001b[K     |██████████████████████▌         | 634kB 5.0MB/s eta 0:00:01\r\u001b[K     |██████████████████████▉         | 645kB 5.0MB/s eta 0:00:01\r\u001b[K     |███████████████████████▏        | 655kB 5.0MB/s eta 0:00:01\r\u001b[K     |███████████████████████▌        | 665kB 5.0MB/s eta 0:00:01\r\u001b[K     |████████████████████████        | 675kB 5.0MB/s eta 0:00:01\r\u001b[K     |████████████████████████▎       | 686kB 5.0MB/s eta 0:00:01\r\u001b[K     |████████████████████████▋       | 696kB 5.0MB/s eta 0:00:01\r\u001b[K     |█████████████████████████       | 706kB 5.0MB/s eta 0:00:01\r\u001b[K     |█████████████████████████▍      | 716kB 5.0MB/s eta 0:00:01\r\u001b[K     |█████████████████████████▊      | 727kB 5.0MB/s eta 0:00:01\r\u001b[K     |██████████████████████████      | 737kB 5.0MB/s eta 0:00:01\r\u001b[K     |██████████████████████████▍     | 747kB 5.0MB/s eta 0:00:01\r\u001b[K     |██████████████████████████▉     | 757kB 5.0MB/s eta 0:00:01\r\u001b[K     |███████████████████████████▏    | 768kB 5.0MB/s eta 0:00:01\r\u001b[K     |███████████████████████████▌    | 778kB 5.0MB/s eta 0:00:01\r\u001b[K     |████████████████████████████    | 788kB 5.0MB/s eta 0:00:01\r\u001b[K     |████████████████████████████▎   | 798kB 5.0MB/s eta 0:00:01\r\u001b[K     |████████████████████████████▋   | 808kB 5.0MB/s eta 0:00:01\r\u001b[K     |█████████████████████████████   | 819kB 5.0MB/s eta 0:00:01\r\u001b[K     |█████████████████████████████▍  | 829kB 5.0MB/s eta 0:00:01\r\u001b[K     |█████████████████████████████▊  | 839kB 5.0MB/s eta 0:00:01\r\u001b[K     |██████████████████████████████  | 849kB 5.0MB/s eta 0:00:01\r\u001b[K     |██████████████████████████████▍ | 860kB 5.0MB/s eta 0:00:01\r\u001b[K     |██████████████████████████████▉ | 870kB 5.0MB/s eta 0:00:01\r\u001b[K     |███████████████████████████████▏| 880kB 5.0MB/s eta 0:00:01\r\u001b[K     |███████████████████████████████▌| 890kB 5.0MB/s eta 0:00:01\r\u001b[K     |███████████████████████████████▉| 901kB 5.0MB/s eta 0:00:01\r\u001b[K     |████████████████████████████████| 911kB 5.0MB/s \n",
            "\u001b[?25hRequirement already satisfied: urllib3 in /usr/local/lib/python3.6/dist-packages (from selenium) (1.24.3)\n",
            "Installing collected packages: selenium\n",
            "Successfully installed selenium-3.141.0\n"
          ],
          "name": "stdout"
        }
      ]
    },
    {
      "cell_type": "code",
      "metadata": {
        "id": "yP54Y4yP2253",
        "colab_type": "code",
        "outputId": "e6b47955-3569-43ac-bcbc-2ef49fd38259",
        "colab": {
          "base_uri": "https://localhost:8080/",
          "height": 171
        }
      },
      "source": [
        "!pip install coloredlogs"
      ],
      "execution_count": 0,
      "outputs": [
        {
          "output_type": "stream",
          "text": [
            "Collecting coloredlogs\n",
            "\u001b[?25l  Downloading https://files.pythonhosted.org/packages/5c/2f/12747be360d6dea432e7b5dfae3419132cb008535cfe614af73b9ce2643b/coloredlogs-14.0-py2.py3-none-any.whl (43kB)\n",
            "\u001b[K     |████████████████████████████████| 51kB 2.4MB/s \n",
            "\u001b[?25hCollecting humanfriendly>=7.1\n",
            "\u001b[?25l  Downloading https://files.pythonhosted.org/packages/8e/2d/2f1b0a780b8c948c06c74c8c80e68ac354da52397ba432a1c5ac1923c3af/humanfriendly-8.2-py2.py3-none-any.whl (86kB)\n",
            "\u001b[K     |████████████████████████████████| 92kB 5.7MB/s \n",
            "\u001b[?25hInstalling collected packages: humanfriendly, coloredlogs\n",
            "Successfully installed coloredlogs-14.0 humanfriendly-8.2\n"
          ],
          "name": "stdout"
        }
      ]
    },
    {
      "cell_type": "code",
      "metadata": {
        "id": "GzXLYAIf2CvU",
        "colab_type": "code",
        "outputId": "796d8b7a-c993-414f-cde7-88fe997dc847",
        "colab": {
          "base_uri": "https://localhost:8080/",
          "height": 363
        }
      },
      "source": [
        "import lxml.html as lh\n",
        "import time\n",
        "import urllib.request\n",
        "import argparse\n",
        "import datetime\n",
        "import pytz\n",
        "from selenium import webdriver\n",
        "from selenium.common.exceptions import StaleElementReferenceException\n",
        "import os\n",
        "import coloredlogs\n",
        "\n",
        "from docopt import docopt\n",
        "from trading_bot.ops import get_state\n",
        "from trading_bot.agent import Agent\n",
        "from trading_bot.methods import evaluate_model\n",
        "from trading_bot.utils import (\n",
        "    get_stock_data,\n",
        "    format_currency,\n",
        "    format_position,\n",
        "    show_eval_result,\n",
        "    switch_k_backend_device\n",
        ")"
      ],
      "execution_count": 0,
      "outputs": [
        {
          "output_type": "error",
          "ename": "ModuleNotFoundError",
          "evalue": "ignored",
          "traceback": [
            "\u001b[0;31m---------------------------------------------------------------------------\u001b[0m",
            "\u001b[0;31mModuleNotFoundError\u001b[0m                       Traceback (most recent call last)",
            "\u001b[0;32m<ipython-input-5-9acbdb6030a7>\u001b[0m in \u001b[0;36m<module>\u001b[0;34m()\u001b[0m\n\u001b[1;32m     11\u001b[0m \u001b[0;34m\u001b[0m\u001b[0m\n\u001b[1;32m     12\u001b[0m \u001b[0;32mfrom\u001b[0m \u001b[0mdocopt\u001b[0m \u001b[0;32mimport\u001b[0m \u001b[0mdocopt\u001b[0m\u001b[0;34m\u001b[0m\u001b[0;34m\u001b[0m\u001b[0m\n\u001b[0;32m---> 13\u001b[0;31m \u001b[0;32mfrom\u001b[0m \u001b[0mtrading_bot\u001b[0m\u001b[0;34m.\u001b[0m\u001b[0mops\u001b[0m \u001b[0;32mimport\u001b[0m \u001b[0mget_state\u001b[0m\u001b[0;34m\u001b[0m\u001b[0;34m\u001b[0m\u001b[0m\n\u001b[0m\u001b[1;32m     14\u001b[0m \u001b[0;32mfrom\u001b[0m \u001b[0mtrading_bot\u001b[0m\u001b[0;34m.\u001b[0m\u001b[0magent\u001b[0m \u001b[0;32mimport\u001b[0m \u001b[0mAgent\u001b[0m\u001b[0;34m\u001b[0m\u001b[0;34m\u001b[0m\u001b[0m\n\u001b[1;32m     15\u001b[0m \u001b[0;32mfrom\u001b[0m \u001b[0mtrading_bot\u001b[0m\u001b[0;34m.\u001b[0m\u001b[0mmethods\u001b[0m \u001b[0;32mimport\u001b[0m \u001b[0mevaluate_model\u001b[0m\u001b[0;34m\u001b[0m\u001b[0;34m\u001b[0m\u001b[0m\n",
            "\u001b[0;31mModuleNotFoundError\u001b[0m: No module named 'trading_bot'",
            "",
            "\u001b[0;31m---------------------------------------------------------------------------\u001b[0;32m\nNOTE: If your import is failing due to a missing package, you can\nmanually install dependencies using either !pip or !apt.\n\nTo view examples of installing some common dependencies, click the\n\"Open Examples\" button below.\n\u001b[0;31m---------------------------------------------------------------------------\u001b[0m\n"
          ]
        }
      ]
    },
    {
      "cell_type": "code",
      "metadata": {
        "id": "ryj19U1-2c3b",
        "colab_type": "code",
        "colab": {}
      },
      "source": [
        "tz = pytz.timezone('Asia/Kolkata')"
      ],
      "execution_count": 0,
      "outputs": []
    }
  ]
}